{
  "nbformat": 4,
  "nbformat_minor": 0,
  "metadata": {
    "colab": {
      "provenance": [],
      "include_colab_link": true
    },
    "kernelspec": {
      "name": "python3",
      "display_name": "Python 3"
    },
    "language_info": {
      "name": "python"
    }
  },
  "cells": [
    {
      "cell_type": "markdown",
      "metadata": {
        "id": "view-in-github",
        "colab_type": "text"
      },
      "source": [
        "<a href=\"https://colab.research.google.com/github/MuddamSiddartha/FMML_Assignments/blob/main/FMML_2023_Basics_of_Python.ipynb\" target=\"_parent\"><img src=\"https://colab.research.google.com/assets/colab-badge.svg\" alt=\"Open In Colab\"/></a>"
      ]
    },
    {
      "cell_type": "markdown",
      "source": [
        "#### Question 0:\n",
        "###### write down 3-5 methods applicable to each data type. (Hint: extend, reverse, etc.\n",
        "1)string:len(),count(),find(),split(),replace() 2)lists:append(),copy(),reverse(),sort(),insert() 3)tuples:count(),index() 4)sets:add(),difference(),clear(),pop(),copy() 5)dictionary:get(),pop(),keys(),values(),update()"
      ],
      "metadata": {
        "id": "hizs_paeceA5"
      }
    },
    {
      "cell_type": "markdown",
      "source": [
        "#### Question 1 :\n",
        "\n",
        "##### Define a function, which takes in two strings A and B. Reverses the first string A, adds it to B, and returns the final string.\n",
        "\n",
        "    def reverse_and_concatenate(A, B):\n",
        "    reversed_A = A[::-1]\n",
        "    result = reversed_A + B\n",
        "    return result\n",
        "    string_A = \"FMML\"\n",
        "    string_B = \"LAB-01\"\n",
        "    result = reverse_and_concatenate(string_A, string_B)\n",
        "    print(result)\n",
        "\n",
        "\n",
        "\n",
        "\n",
        "#### Question 2 :\n",
        "##### Given a list having Names, work_hours, and gender, Write a function to print name of the female worker that worked the most hours. Also how much do should she be paid if the pay is $ 20 per hour.\n",
        "\n",
        "##### work_hours = [('Abby',100 , 'F'),('Billy',400, 'M'),('Cassie',800,'F'), ('Maggi',600,'F'),('Alex',500,'M'),('Raj',225,'M'),('Penny',920,'F'),('Ben',300,'M')]\n",
        "\n",
        "##### Answer : the female worker that worked the most hours is Penny and she should be paid 18400\n",
        "\n",
        "    def find_female_worker_with_most_hours(work_hours):\n",
        "    max_hours = 0\n",
        "    female_worker = None\n",
        "    \n",
        "    for name, hours, gender in work_hours:\n",
        "    if gender == 'F' and hours > max_hours:\n",
        "    max_hours = hours\n",
        "    female_worker = name\n",
        "    \n",
        "    return female_worker, max_hours\n",
        "\n",
        "    def calculate_pay(hours_worked, hourly_rate=20):\n",
        "    return hours_worked * hourly_rate\n",
        "\n",
        "    work_hours = [('Abby', 100, 'F'), ('Billy', 400, 'M'), ('Cassie', 800, 'F'), ('Maggi', 600, 'F'), ('Alex', 500, 'M'), ('Raj', 225, 'M'), ('Penny', 920, 'F'), ('Ben', 300, 'M')]\n",
        "\n",
        "    female_worker, max_hours = find_female_worker_with_most_hours(work_hours)\n",
        "    if female_worker:\n",
        "    payment = calculate_pay(max_hours)\n",
        "    print(f\"The female worker that worked the most hours is {female_worker} and she should be paid ${payment}.\")\n",
        "    else:\n",
        "    print(\"No female worker found in the list.\")\n"
      ],
      "metadata": {
        "id": "heD0_u4D01jp"
      }
    },
    {
      "cell_type": "markdown",
      "source": [
        "#### Question 3 :\n",
        "\n",
        "---\n",
        "\n",
        "\n",
        "\n",
        "\n",
        "\n",
        "\n",
        "##### a)Create a 5x5 matrix of the following form,\n",
        "\n",
        "##### [[1,1]\n",
        "#####  [2,2]]\n",
        "\n",
        "#####  i.e. each row is increasing and has repetive elements.\n",
        "\n",
        "######  Hint : you can use hstack, vstack  etc.\n",
        "    import numpy as np\n",
        "    result_matrix = np.empty((5, 5), dtype=int)\n",
        "    for i in range(5):\n",
        "      for j in range(5):\n",
        "       result_matrix[i, j] = (i % 2) + 1\n",
        "    print(result_matrix)\n",
        "    \n",
        "\n",
        "##### b) find dot product of the matrix with any matrix. (Figure out the size/ shape of the matrix)\n",
        "\n",
        "\n",
        "    import numpy as np\n",
        "    rows_A = int(input(\"Enter the number of rows for Matrix A: \"))\n",
        "    cols_A = int(input(\"Enter the number of columns for Matrix A: \"))\n",
        "    rows_B = int(input(\"Enter the number of rows for Matrix B: \"))\n",
        "    cols_B = int(input(\"Enter the number of columns for Matrix B: \"))\n",
        "    matrix_A = np.empty((rows_A, cols_A), dtype=int)\n",
        "    matrix_B = np.empty((rows_B, cols_B), dtype=int)\n",
        "    print(\"Enter elements for Matrix A:\")\n",
        "    for i in range(rows_A):\n",
        "        for j in range(cols_A):\n",
        "            matrix_A[i, j] = int(input(f\"Enter element at position ({i+1}, {j+1}): \"))\n",
        "    print(\"Enter elements for Matrix B:\")\n",
        "    for i in range(rows_B):\n",
        "        for j in range(cols_B):\n",
        "            matrix_B[i, j] = int(input(f\"Enter element at position ({i+1}, {j+1}): \"))\n",
        "    if cols_A != rows_B:\n",
        "        print(\"Matrix multiplication is not possible due to incompatible dimensions.\")\n",
        "    else:\n",
        "        dot_product = np.dot(matrix_A, matrix_B)\n",
        "        print(\"Dot Product:\")\n",
        "        print(dot_product)\n",
        "        result_shape = dot_product.shape\n",
        "        print(f\"Shape of the resulting matrix: {result_shape}\")\n",
        "\n",
        "\n"
      ],
      "metadata": {
        "id": "uqWUH6Rv4OhT"
      }
    },
    {
      "cell_type": "code",
      "source": [
        "## Question 3 : Upload an image to your google drive, Use plt.imread to read image from the google drive and then print that image using plt.imshow\n",
        "\n",
        "      pip install matplotlib gdown\n",
        "\n",
        "\n",
        "      import gdown\n",
        "\n",
        "      file_id = '1pK1SFtSNAdzf2fIRklvt3FjRBJUkdyMU'\n",
        "      output = 'image.jpg'\n",
        "      gdown.download(f'https://drive.google.com/uc?id=1pK1SFtSNAdzf2fIRklvt3FjRBJUkdyMU', output, quiet=False)\n",
        "\n",
        "    import matplotlib.pyplot as plt\n",
        "\n",
        "      image = plt.imread('image.jpg')\n",
        "      plt.imshow(image)\n",
        "      plt.axis('off')\n",
        "      plt.show()\n",
        "\n"
      ],
      "metadata": {
        "id": "ugQW3GicKhVy"
      },
      "execution_count": 3,
      "outputs": []
    }
  ]
}